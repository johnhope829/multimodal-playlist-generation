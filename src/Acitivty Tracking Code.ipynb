{
 "cells": [
  {
   "cell_type": "markdown",
   "metadata": {},
   "source": [
    "**DATASET CLASS**\n"
   ]
  },
  {
   "cell_type": "code",
   "execution_count": 6,
   "metadata": {},
   "outputs": [
    {
     "name": "stdout",
     "output_type": "stream",
     "text": [
      "Requirement already satisfied: torch in c:\\users\\grozz\\downloads\\msds\\ds llm\\.conda\\lib\\site-packages (2.6.0)\n",
      "Requirement already satisfied: filelock in c:\\users\\grozz\\downloads\\msds\\ds llm\\.conda\\lib\\site-packages (from torch) (3.18.0)\n",
      "Requirement already satisfied: typing-extensions>=4.10.0 in c:\\users\\grozz\\downloads\\msds\\ds llm\\.conda\\lib\\site-packages (from torch) (4.13.2)\n",
      "Requirement already satisfied: networkx in c:\\users\\grozz\\downloads\\msds\\ds llm\\.conda\\lib\\site-packages (from torch) (3.4.2)\n",
      "Requirement already satisfied: jinja2 in c:\\users\\grozz\\downloads\\msds\\ds llm\\.conda\\lib\\site-packages (from torch) (3.1.6)\n",
      "Requirement already satisfied: fsspec in c:\\users\\grozz\\downloads\\msds\\ds llm\\.conda\\lib\\site-packages (from torch) (2025.3.2)\n",
      "Requirement already satisfied: setuptools in c:\\users\\grozz\\downloads\\msds\\ds llm\\.conda\\lib\\site-packages (from torch) (75.1.0)\n",
      "Requirement already satisfied: sympy==1.13.1 in c:\\users\\grozz\\downloads\\msds\\ds llm\\.conda\\lib\\site-packages (from torch) (1.13.1)\n",
      "Requirement already satisfied: mpmath<1.4,>=1.1.0 in c:\\users\\grozz\\downloads\\msds\\ds llm\\.conda\\lib\\site-packages (from sympy==1.13.1->torch) (1.3.0)\n",
      "Requirement already satisfied: MarkupSafe>=2.0 in c:\\users\\grozz\\downloads\\msds\\ds llm\\.conda\\lib\\site-packages (from jinja2->torch) (3.0.2)\n",
      "Note: you may need to restart the kernel to use updated packages.\n"
     ]
    }
   ],
   "source": [
    "pip install torch"
   ]
  },
  {
   "cell_type": "markdown",
   "metadata": {},
   "source": [
    "Loading in Our Data"
   ]
  },
  {
   "cell_type": "code",
   "execution_count": null,
   "metadata": {},
   "outputs": [],
   "source": []
  },
  {
   "cell_type": "code",
   "execution_count": 7,
   "metadata": {},
   "outputs": [],
   "source": [
    "import torch\n",
    "import torch.nn as nn\n",
    "from torch.utils.data import Dataset\n",
    "\n",
    "class HARWindowDataset(Dataset): \n",
    "    def __init__(self, data, labels, window_size=128, stride=64): \n",
    "        self.X = [] \n",
    "        self.y = [] \n",
    " \n",
    "        for i in range(0, len(data) - window_size, stride): \n",
    "            window = data[i:i + window_size] \n",
    "            label = labels[i:i + window_size] \n",
    "            majority = np.bincount(label).argmax() \n",
    " \n",
    "            self.X.append(window) \n",
    "            self.y.append(majority) \n",
    " \n",
    "        self.X = torch.tensor(self.X, dtype=torch.float32) \n",
    "        self.y = torch.tensor(self.y, dtype=torch.long) \n",
    " \n",
    "    def __len__(self): \n",
    "        return len(self.X) \n",
    " \n",
    "    def __getitem__(self, idx): \n",
    "        return self.X[idx], self.y[idx] \n",
    " "
   ]
  },
  {
   "cell_type": "code",
   "execution_count": 8,
   "metadata": {},
   "outputs": [],
   "source": [
    "class ActivityModel(nn.Module): \n",
    "    def __init__(self, input_channels=6, num_classes=6): \n",
    "        super(ActivityModel, self).__init__() \n",
    "        self.cnn = nn.Sequential( \n",
    "            nn.Conv1d(input_channels, 32, kernel_size=5), \n",
    "            nn.ReLU(), \n",
    "            nn.MaxPool1d(2) \n",
    "        ) \n",
    "        self.lstm = nn.LSTM(input_size=32, hidden_size=64, batch_first=True) \n",
    "        self.classifier = nn.Sequential( \n",
    "            nn.Linear(64, 32), \n",
    "            nn.ReLU(), \n",
    "            nn.Linear(32, num_classes) \n",
    "        ) \n",
    " \n",
    "    def forward(self, x):  # x shape: [B, T, C] \n",
    "        x = x.permute(0, 2, 1)  # to [B, C, T] \n",
    "        x = self.cnn(x)         # [B, 32, T'] \n",
    "        x = x.permute(0, 2, 1)  # [B, T', 32] \n",
    "        _, (h_n, _) = self.lstm(x) \n",
    "        return self.classifier(h_n.squeeze(0))"
   ]
  },
  {
   "cell_type": "code",
   "execution_count": null,
   "metadata": {},
   "outputs": [],
   "source": [
    "model = ActivityModel().to('cuda') \n",
    "criterion = nn.CrossEntropyLoss() \n",
    "optimizer = torch.optim.Adam(model.parameters(), lr=1e-3) \n",
    " \n",
    "for epoch in range(10): \n",
    "    model.train() \n",
    "    total_loss = 0 \n",
    "    for x_batch, y_batch in train_loader: \n",
    "        x_batch, y_batch = x_batch.to('cuda'), y_batch.to('cuda') \n",
    "        optimizer.zero_grad() \n",
    "        output = model(x_batch) \n",
    "        loss = criterion(output, y_batch) \n",
    "        loss.backward() \n",
    "        optimizer.step() \n",
    "        total_loss += loss.item() \n",
    "     \n",
    "    print(f\"Epoch {epoch+1}, Loss: {total_loss/len(train_loader):.4f}\") \n",
    " "
   ]
  }
 ],
 "metadata": {
  "kernelspec": {
   "display_name": "Python 3",
   "language": "python",
   "name": "python3"
  },
  "language_info": {
   "codemirror_mode": {
    "name": "ipython",
    "version": 3
   },
   "file_extension": ".py",
   "mimetype": "text/x-python",
   "name": "python",
   "nbconvert_exporter": "python",
   "pygments_lexer": "ipython3",
   "version": "3.12.8"
  }
 },
 "nbformat": 4,
 "nbformat_minor": 2
}
