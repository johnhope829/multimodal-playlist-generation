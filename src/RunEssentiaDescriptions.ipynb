{
 "cells": [
  {
   "cell_type": "code",
   "execution_count": 23,
   "id": "c9588b1a",
   "metadata": {},
   "outputs": [],
   "source": [
    "import os\n",
    "import librosa\n",
    "import re\n",
    "import subprocess\n",
    "import unicodedata\n",
    "import soundfile as sf\n",
    "import subprocess\n",
    "from concurrent.futures import ThreadPoolExecutor"
   ]
  },
  {
   "cell_type": "code",
   "execution_count": null,
   "id": "167da57a",
   "metadata": {},
   "outputs": [
    {
     "name": "stdout",
     "output_type": "stream",
     "text": [
      "Logical CPU cores available: 12\n"
     ]
    }
   ],
   "source": [
    "import os\n",
    "print(\"Logical CPU cores available:\", os.cpu_count())"
   ]
  },
  {
   "cell_type": "code",
   "execution_count": 10,
   "id": "8c9e5b16",
   "metadata": {},
   "outputs": [],
   "source": [
    "# === File Setup ===\n",
    "mp3_path = r\"C:\\Users\\Johnh\\OneDrive\\Desktop\\MSDS\\3 - Spring 2025\\Deep Learning\\Project\\multimodal-playlist-generation\\data\\song_audio_files\\example.mp3\"\n",
    "trimmed_dir = r\"C:\\Users\\Johnh\\OneDrive\\Desktop\\MSDS\\3 - Spring 2025\\Deep Learning\\Project\\multimodal-playlist-generation\\data\\song_audio_files\\trimmed\"\n",
    "essentia_out = r\"C:\\Users\\Johnh\\OneDrive\\Desktop\\MSDS\\3 - Spring 2025\\Deep Learning\\Project\\multimodal-playlist-generation\\data\\essentia_results\"\n",
    "\n",
    "\n",
    "filename = os.path.basename(mp3_path).replace('.mp3', '.wav')\n",
    "trimmed_path = os.path.join(trimmed_dir, filename)"
   ]
  },
  {
   "cell_type": "code",
   "execution_count": 11,
   "id": "da3fa447",
   "metadata": {},
   "outputs": [],
   "source": [
    "def run_essentia(mp3_path):\n",
    "    if mp3_path is None:\n",
    "        return\n",
    "\n",
    "    filename = os.path.basename(mp3_path)\n",
    "    json_filename = filename.replace(\".wav\", \".json\")\n",
    "\n",
    "    # Full Docker volume paths (safe for Windows)\n",
    "    input_mount = f\"{os.path.abspath(trimmed_dir)}:/input\"\n",
    "    output_mount = f\"{os.path.abspath(essentia_out)}:/output\"\n",
    "\n",
    "    cmd = [\n",
    "        \"docker\", \"run\", \"--rm\",\n",
    "        \"-v\", input_mount,\n",
    "        \"-v\", output_mount,\n",
    "        \"mtgupf/essentia\",\n",
    "        \"essentia_streaming_extractor_music\",\n",
    "        f\"/input/{filename}\",\n",
    "        f\"/output/{json_filename}\"\n",
    "    ]\n",
    "\n",
    "    print(\"Running Docker command:\")\n",
    "    print(\" \".join(cmd))  # See exactly what's being run\n",
    "\n",
    "    try:\n",
    "        result = subprocess.run(cmd, capture_output=True, text=True, check=True)\n",
    "        print(f\"[DONE] {filename}\")\n",
    "    except subprocess.CalledProcessError as e:\n",
    "        print(f\"[ESSENTIA FAIL] {filename}\")\n",
    "        print(\"stdout:\", e.stdout)\n",
    "        print(\"stderr:\", e.stderr)"
   ]
  },
  {
   "cell_type": "code",
   "execution_count": 20,
   "id": "e75e130e",
   "metadata": {},
   "outputs": [
    {
     "name": "stdout",
     "output_type": "stream",
     "text": [
      "No. of files: 1000\n"
     ]
    }
   ],
   "source": [
    "# List of WAVs to process\n",
    "all_trimmed_files = [os.path.join(trimmed_dir, f) for f in os.listdir(trimmed_dir) if f.endswith(\".wav\")]\n",
    "print('No. of files:', len(all_trimmed_files))"
   ]
  },
  {
   "cell_type": "code",
   "execution_count": null,
   "id": "cc66c19b",
   "metadata": {},
   "outputs": [],
   "source": [
    "# Run with N workers\n",
    "with ThreadPoolExecutor(max_workers=8) as executor:\n",
    "    executor.map(run_essentia, all_trimmed_files)"
   ]
  },
  {
   "cell_type": "code",
   "execution_count": 25,
   "id": "5fae7ce1",
   "metadata": {},
   "outputs": [
    {
     "name": "stdout",
     "output_type": "stream",
     "text": [
      "1 file(s) to process...\n"
     ]
    }
   ],
   "source": [
    "# === Strong filename sanitizer ===\n",
    "def sanitize(filename):\n",
    "    filename = ''.join(c for c in filename if c.isascii() and c.isprintable())\n",
    "    filename = unicodedata.normalize('NFKD', filename)\n",
    "    filename = re.sub(r'[^\\w\\s\\.-]', '', filename)\n",
    "    filename = filename.replace(' ', '_')\n",
    "    return filename\n",
    "\n",
    "# === Step 1: Get missing JSONs and rename dirty files ===\n",
    "clean_wavs_to_run = []\n",
    "\n",
    "for wav in os.listdir(trimmed_dir):\n",
    "    if not wav.endswith(\".wav\"):\n",
    "        continue\n",
    "\n",
    "    json_name = wav.replace(\".wav\", \".json\")\n",
    "    if json_name in os.listdir(essentia_out):\n",
    "        continue  # already processed\n",
    "\n",
    "    original_path = os.path.join(trimmed_dir, wav)\n",
    "    clean_name = sanitize(wav)\n",
    "    clean_path = os.path.join(trimmed_dir, clean_name)\n",
    "\n",
    "    if clean_name != wav:\n",
    "        if not os.path.exists(clean_path):\n",
    "            os.rename(original_path, clean_path)\n",
    "        print(f\"[RENAMED] {wav} -> {clean_name}\")\n",
    "        wav = clean_name\n",
    "\n",
    "    clean_wavs_to_run.append(wav)\n",
    "\n",
    "print(f\"{len(clean_wavs_to_run)} file(s) to process...\")"
   ]
  },
  {
   "cell_type": "code",
   "execution_count": 26,
   "id": "c725b8bf",
   "metadata": {},
   "outputs": [
    {
     "data": {
      "text/plain": [
       "['1880_-_ROS_-_toxic_till_the_end_official_audio.wav']"
      ]
     },
     "execution_count": 26,
     "metadata": {},
     "output_type": "execute_result"
    }
   ],
   "source": [
    "clean_wavs_to_run"
   ]
  },
  {
   "cell_type": "code",
   "execution_count": 27,
   "id": "defa9246",
   "metadata": {},
   "outputs": [
    {
     "name": "stdout",
     "output_type": "stream",
     "text": [
      "Running Docker command:\n",
      "docker run --rm -v C:\\Users\\Johnh\\OneDrive\\Desktop\\MSDS\\3 - Spring 2025\\Deep Learning\\Project\\multimodal-playlist-generation\\data\\song_audio_files\\trimmed:/input -v C:\\Users\\Johnh\\OneDrive\\Desktop\\MSDS\\3 - Spring 2025\\Deep Learning\\Project\\multimodal-playlist-generation\\data\\essentia_results:/output mtgupf/essentia essentia_streaming_extractor_music /input/1880_-_ROS_-_toxic_till_the_end_official_audio.wav /output/1880_-_ROS_-_toxic_till_the_end_official_audio.json\n",
      "[ESSENTIA FAIL] 1880_-_ROS_-_toxic_till_the_end_official_audio.wav\n",
      "stdout: \n",
      "stderr: [   INFO   ] MusicExtractor: Read metadata\n",
      "[   INFO   ] MusicExtractor: Compute md5 audio hash, codec, length, and EBU 128 loudness\n",
      "[   INFO   ] MusicExtractor: Replay gain\n",
      "File looks like a completely silent file... Aborting...\n",
      "\n"
     ]
    }
   ],
   "source": [
    "# === Step 3: Run in parallel ===\n",
    "with ThreadPoolExecutor(max_workers=8) as executor:\n",
    "    executor.map(run_essentia, clean_wavs_to_run)"
   ]
  }
 ],
 "metadata": {
  "kernelspec": {
   "display_name": "Python 3",
   "language": "python",
   "name": "python3"
  },
  "language_info": {
   "codemirror_mode": {
    "name": "ipython",
    "version": 3
   },
   "file_extension": ".py",
   "mimetype": "text/x-python",
   "name": "python",
   "nbconvert_exporter": "python",
   "pygments_lexer": "ipython3",
   "version": "3.13.1"
  }
 },
 "nbformat": 4,
 "nbformat_minor": 5
}
