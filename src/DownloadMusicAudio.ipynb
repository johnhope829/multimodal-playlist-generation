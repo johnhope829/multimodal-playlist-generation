{
 "cells": [
  {
   "cell_type": "markdown",
   "id": "b8d0f270-3ada-4b4d-abe5-afcda5d4c476",
   "metadata": {},
   "source": [
    "# Downloading Music Audio"
   ]
  },
  {
   "cell_type": "markdown",
   "id": "258dc873-6d00-4555-8a9a-ce765751d62d",
   "metadata": {},
   "source": [
    "## Import Packages"
   ]
  },
  {
   "cell_type": "code",
   "execution_count": null,
   "id": "8a830079-f986-4ac0-b38f-a9b8e6d99f6b",
   "metadata": {
    "tags": []
   },
   "outputs": [],
   "source": [
    "import pandas as pd\n",
    "import random\n",
    "import os\n",
    "import glob\n",
    "import subprocess\n",
    "from time import sleep"
   ]
  },
  {
   "cell_type": "markdown",
   "id": "59aeaa2f-d2b6-4f2f-bd02-da40c6e81ef8",
   "metadata": {},
   "source": [
    "## Read in Song Data"
   ]
  },
  {
   "cell_type": "code",
   "execution_count": null,
   "id": "49bf58e2-e03f-4c41-9a95-4e7628b579ec",
   "metadata": {
    "tags": []
   },
   "outputs": [],
   "source": [
    "songs_df = pd.read_csv('../data/SONGS.csv')\n",
    "\n",
    "# Sample 1,000 popular songs\n",
    "sample_songs_df = songs_df.query(\"Popularity > 80\").sample(n=1000, random_state=42)\n",
    "\n",
    "# Create queries\n",
    "queries = sample_songs_df['Track Name'] + ' by ' + sample_songs_df['Artist'] + ' audio'\n",
    "queries = [(idx, val) for idx, val in queries.items()]"
   ]
  },
  {
   "cell_type": "markdown",
   "id": "5232d0bb-3946-49d5-8818-3d2054d3efb3",
   "metadata": {},
   "source": [
    "## Download Audio Files"
   ]
  },
  {
   "cell_type": "code",
   "execution_count": null,
   "id": "78fbffd8-5115-4231-9526-c49476d6115c",
   "metadata": {
    "tags": []
   },
   "outputs": [],
   "source": [
    "output_dir = \"../data/song_audio_files\"\n",
    "os.makedirs(output_dir, exist_ok=True)\n",
    "\n",
    "for song_id, query in queries:\n",
    "    safe_id = str(song_id)\n",
    "    safe_query = query.replace('\"', '').replace(\"'\", \"\").strip()\n",
    "    output_path = os.path.join(output_dir, f\"{safe_id} - %(title)s.%(ext)s\")\n",
    "\n",
    "    cmd = [\n",
    "        \"yt-dlp\",\n",
    "        f\"ytsearch1:{query}\",\n",
    "        \"--extract-audio\",\n",
    "        \"--audio-format\", \"mp3\",\n",
    "        \"--output\", output_path\n",
    "    ]\n",
    "\n",
    "    print(f\"Downloading {safe_id}: {query}\")\n",
    "    try:\n",
    "        subprocess.run(cmd, check=True)\n",
    "    except subprocess.CalledProcessError:\n",
    "        print(f\"❌ Failed: {safe_id} - {query}\")\n",
    "    \n",
    "    sleep(1)"
   ]
  },
  {
   "cell_type": "markdown",
   "id": "f3cdcb3c-40bf-4524-a3a2-7053729aa523",
   "metadata": {},
   "source": [
    "## Get Additional Files for Failures"
   ]
  },
  {
   "cell_type": "code",
   "execution_count": null,
   "id": "a89c1fed-5c64-4e10-ac37-1588b8b238a0",
   "metadata": {
    "tags": []
   },
   "outputs": [],
   "source": [
    "original_ids = set(sample_songs_df.index)\n",
    "\n",
    "available_pool = songs_df[~songs_df.index.isin(original_ids)]\n",
    "new_sample_df = available_pool.query(\"Popularity > 80\").sample(n=3, random_state=99)\n",
    "\n",
    "new_queries = new_sample_df['Track Name'] + ' by ' + new_sample_df['Artist'] + ' audio'\n",
    "new_queries = [(idx, val) for idx, val in new_queries.items()]"
   ]
  },
  {
   "cell_type": "code",
   "execution_count": null,
   "id": "59e81e98-dd34-4cab-8e6f-d148eb7e5390",
   "metadata": {
    "tags": []
   },
   "outputs": [],
   "source": [
    "output_dir = \"../data/song_audio_files\"\n",
    "os.makedirs(output_dir, exist_ok=True)\n",
    "\n",
    "for song_id, query in new_queries:\n",
    "    safe_id = str(song_id)\n",
    "    safe_query = query.replace('\"', '').replace(\"'\", \"\").strip()\n",
    "    output_path = os.path.join(output_dir, f\"{safe_id} - %(title)s.%(ext)s\")\n",
    "\n",
    "    cmd = [\n",
    "        \"yt-dlp\",\n",
    "        f\"ytsearch1:{query}\",\n",
    "        \"--extract-audio\",\n",
    "        \"--audio-format\", \"mp3\",\n",
    "        \"--output\", output_path\n",
    "    ]\n",
    "\n",
    "    print(f\"Downloading {safe_id}: {query}\")\n",
    "    try:\n",
    "        subprocess.run(cmd, check=True)\n",
    "    except subprocess.CalledProcessError:\n",
    "        print(f\"❌ Failed: {safe_id} - {query}\")\n",
    "    \n",
    "    sleep(1)"
   ]
  }
 ],
 "metadata": {
  "kernelspec": {
   "display_name": "Python 3 (ipykernel)",
   "language": "python",
   "name": "python3"
  },
  "language_info": {
   "codemirror_mode": {
    "name": "ipython",
    "version": 3
   },
   "file_extension": ".py",
   "mimetype": "text/x-python",
   "name": "python",
   "nbconvert_exporter": "python",
   "pygments_lexer": "ipython3",
   "version": "3.11.4"
  }
 },
 "nbformat": 4,
 "nbformat_minor": 5
}
